{
  "nbformat": 4,
  "nbformat_minor": 0,
  "metadata": {
    "colab": {
      "provenance": []
    },
    "kernelspec": {
      "name": "python3",
      "display_name": "Python 3"
    },
    "language_info": {
      "name": "python"
    }
  },
  "cells": [
    {
      "cell_type": "markdown",
      "source": [
        "# Nuclear vs. Renewables Generation\n",
        "### A comparative analysis on how policies and regulations affect energy generation using EIA's API\n",
        "\n",
        "**Here you will see:**\n",
        "- Annual electricity generation (thousand MWh) from **Nuclear** and combined **Renewables** (Wind, Solar, Hydro)\n",
        "- Three compeling case studies using **New York** as our base state, a state leading in Nuclear power generation such as **Illinois** and a state leading in Renewable power generation such as **Iowa**\n"
      ],
      "metadata": {
        "id": "gX_1LXb2M9j0"
      }
    },
    {
      "cell_type": "markdown",
      "source": [
        "Setup & Imports:"
      ],
      "metadata": {
        "id": "BVSbvWBgOphl"
      }
    },
    {
      "cell_type": "code",
      "source": [
        "import requests\n",
        "import pandas as pd\n",
        "import matplotlib.pyplot as plt\n",
        "\n",
        "API_KEY = \"\" # Your key here\n",
        "states = [\"NY\", \"IL\", \"IA\"]\n",
        "\n",
        "pd.set_option('display.max_columns', 10)\n",
        "pd.set_option('display.precision', 2)"
      ],
      "metadata": {
        "id": "tQQp7WaVOw2Z"
      },
      "execution_count": null,
      "outputs": []
    },
    {
      "cell_type": "markdown",
      "source": [
        "## Data retrieval\n",
        "\n",
        "Let's call the **EIA API** to fetch **annual** generation data for each state, filtered to the Electric Power Sector."
      ],
      "metadata": {
        "id": "f28YT6AVRsYR"
      }
    },
    {
      "cell_type": "code",
      "source": [
        "# Endpoint for EIA electricity operations data\n",
        "base_url = \"https://api.eia.gov/v2/electricity/electric-power-operational-data/data/\"\n",
        "\n",
        "# Container for each state's raw DataFrame\n",
        "state_dfs = {}\n",
        "\n",
        "for st in states:\n",
        "  params = {\n",
        "      \"api_key\": API_KEY,\n",
        "      \"frequency\": \"annual\",\n",
        "      \"data[0]\": \"generation\",\n",
        "      \"facets[sectorid][]\": \"98\",\n",
        "      \"facets[location][]\": st\n",
        "  }\n",
        "  resp = requests.get(base_url, params=params)\n",
        "  resp.raise_for_status()\n",
        "  records = resp.json()['response']['data']\n",
        "  state_dfs[st] = pd.DataFrame(records)\n",
        "\n",
        "print(\"Data fetched for states:\", list(state_dfs.keys()))"
      ],
      "metadata": {
        "id": "a9mO3ZqkTYhz"
      },
      "execution_count": null,
      "outputs": []
    },
    {
      "cell_type": "markdown",
      "source": [
        "## Inspecting the Raw Data\n",
        "\n",
        "Let's take a look at New York's raw table to understand its structure."
      ],
      "metadata": {
        "id": "2LbxeZK2VuCL"
      }
    },
    {
      "cell_type": "markdown",
      "source": [
        "### We'll be takign a look at the folowing key columns:\n",
        "\n",
        "- **period** (Year)\n",
        "- **location** (State code)\n",
        "- **fueltypeid** & **fueltypedescription** (e.g., Nuclear, Wind, Solar, Hydro)\n",
        "- **generation** (Value)\n",
        "- **generation-units** (typically *thousand megawatt-hours*)"
      ],
      "metadata": {
        "id": "rXMcs2kRWMJK"
      }
    },
    {
      "cell_type": "code",
      "source": [
        "state_dfs[\"NY\"].head(5)"
      ],
      "metadata": {
        "id": "DDbtcn6WV9UE"
      },
      "execution_count": null,
      "outputs": []
    },
    {
      "cell_type": "markdown",
      "source": [
        "## Cleaning and Preparing the data\n",
        "\n",
        "To achieve this we will:\n",
        "1. **Combine** all states into one DataFrame\n",
        "2. **Select** only Year, State, FuelCode, Fuel, Generation\n",
        "3. **Filter** to Nuclear (NUC) and Renewables (WND, SUN, HYC)\n",
        "4. **Fill** missing values -> 0\n",
        "5. **Aggregate** Renewables = Wind + Solar + Hydro\n",
        "6. **Merge** Nuclear and Renewables\n",
        "7. **Pivot** so each year has 'NY_Nuclear', 'NY_Renewables', etc."
      ],
      "metadata": {
        "id": "QAMwwH-OZM6-"
      }
    },
    {
      "cell_type": "code",
      "source": [
        "# 1. Combine:\n",
        "df = pd.concat(state_dfs.values(), ignore_index=True)\n",
        "\n",
        "# 2. Select and rename\n",
        "df = df[[\"period\", \"location\", \"fueltypeid\", \"fuelTypeDescription\", \"generation\"]].rename(\n",
        "    columns={\n",
        "        \"period\": \"Year\",\n",
        "        \"location\": \"State\",\n",
        "        \"fueltypeid\": \"FuelCode\",\n",
        "        \"fuelTypeDescription\": \"Fuel\"\n",
        "    }\n",
        ")\n",
        "df['Year'] = df['Year'].astype(int)\n",
        "\n",
        "# 3. Filter fuels\n",
        "df = df[df['FuelCode'].isin(['NUC', 'WND', 'SUN', 'HYC'])]\n",
        "\n",
        "# 4. Fill missing -> 0\n",
        "df['generation'] = pd.to_numeric(df['generation'], errors='coerce').fillna(0.0)\n",
        "\n",
        "# 5. Aggregate Renewables\n",
        "renew = (\n",
        "    df[df['FuelCode'].isin(['WND', 'SUN', 'HYC'])]\n",
        "    .groupby(['Year', 'State'], as_index=False)['generation']\n",
        "    .sum()\n",
        "    .rename(columns={'generation':'Renewables'})\n",
        ")\n",
        "\n",
        "# Nuclear\n",
        "nuc = (\n",
        "    df[df['FuelCode'] == 'NUC']\n",
        "    .loc[:, ['Year', 'State', 'generation']]\n",
        "    .rename(columns={'generation':'Nuclear'})\n",
        ")\n",
        "\n",
        "# 6. Merge\n",
        "merged = pd.merge(nuc, renew, on=['Year', 'State'], how='outer').fillna(0.0)\n",
        "\n",
        "# 7. Pivot\n",
        "pivot = (\n",
        "    merged.pivot(index='Year', columns='State', values=['Nuclear', 'Renewables'])\n",
        ")\n",
        "pivot.columns = [f\"{state}_{src}\" for src, state in pivot.columns]\n",
        "pivot = pivot.reset_index().sort_values('Year')"
      ],
      "metadata": {
        "id": "RJZB7K8sdu-G"
      },
      "execution_count": null,
      "outputs": []
    },
    {
      "cell_type": "markdown",
      "source": [
        "## Final Table Preview\n",
        "\n",
        "Below are the last 10 years of generation (thousand MWh) for each state and source:"
      ],
      "metadata": {
        "id": "0S2qIvUgjwnj"
      }
    },
    {
      "cell_type": "code",
      "source": [
        "pivot.tail(10)"
      ],
      "metadata": {
        "id": "Hw7A4KB6kDet"
      },
      "execution_count": null,
      "outputs": []
    },
    {
      "cell_type": "markdown",
      "source": [
        "## Visualizations\n",
        "\n",
        "Let's plot two lines per state:\n",
        "- **Nuclear** (solid blue)\n",
        "- **Renewables** (dashed green)\n",
        "\n",
        "Each chart will show trends from ~1990 to the latest year."
      ],
      "metadata": {
        "id": "9XbVNT3plbdP"
      }
    },
    {
      "cell_type": "code",
      "source": [
        "# Function to plot one state\n",
        "def plot_state(state, df):\n",
        "  yrs = df['Year']\n",
        "  nuc = df[f\"{state}_Nuclear\"]\n",
        "  ren = df[f\"{state}_Renewables\"]\n",
        "\n",
        "  plt.figure(figsize=(6, 4))\n",
        "  plt.plot(yrs, nuc, label='Nuclear', linewidth=2)\n",
        "  plt.plot(yrs, ren, '--', label='Renewables', linewidth = 2)\n",
        "  plt.title(f\"{state} - Nuclear vs Renewables Generation\")\n",
        "  plt.xlabel(\"Year\")\n",
        "  plt.ylabel(\"Generation (thousand MWh)\")\n",
        "  plt.legend()\n",
        "  plt.grid(alpha=0.3)\n",
        "  plt.show()\n",
        "\n",
        "\n",
        "plot_state(\"NY\", pivot)\n",
        "\n"
      ],
      "metadata": {
        "id": "4_5A72bWBIOu"
      },
      "execution_count": null,
      "outputs": []
    },
    {
      "cell_type": "markdown",
      "source": [
        "## New York (NY)\n",
        "We can see a dramatic shift in New York's energy generation after 2019. Nuclear generation remained between 40,000 and 45,000 thousand MWh but dropped by about 40% between 2019 and 2021 after the closure of the **Indian Point** reactors. After 2020 we see renewables start to overtake nuclear generation. An enhanced **Clean Energy Standard** and policies like the **Climate Leadership and Community Protection Act (2019)** mandated that New York must reach 70% renewable electricity generation by 2030, and 100% carbon free power by 2040.\n",
        "\n",
        "\n",
        "\n",
        "\n"
      ],
      "metadata": {
        "id": "MopOG8ruATl7"
      }
    },
    {
      "cell_type": "code",
      "source": [
        "plot_state(\"IL\", pivot)"
      ],
      "metadata": {
        "id": "UQgHg6kzgcJt"
      },
      "execution_count": null,
      "outputs": []
    },
    {
      "cell_type": "markdown",
      "source": [
        "# Illinois (IL)\n",
        "Illinois has consistently ranked as the nation's top nuclear energy producer. Looking at the chart, we see how nuclear generation has remained consistently above 90,000 thousand MWh for over two decades. Key legislation like the **Future Energy Jobs Act (2016)** and the **Climate and Equitable Jobs Act (2021)** provided subsidies and zero-emission credits to keep nuclear plants economically viable.\n",
        "\n",
        "While there's a lot more focus on nuclear over renewable generation, Illinois has been making steady progress expanding its renewable energy mix. Around the 2000s renewable generation is near zero and grows to over 25,000 thousand MWh by 2023. This growth is expected to continue due to the state's **Renewable Portfolio Standard** now targeting 40% renewable electricity by 2030."
      ],
      "metadata": {
        "id": "28JTZGu3iLZq"
      }
    },
    {
      "cell_type": "code",
      "source": [
        "plot_state(\"IA\", pivot)"
      ],
      "metadata": {
        "id": "5SkMFaWcrEZ4"
      },
      "execution_count": null,
      "outputs": []
    },
    {
      "cell_type": "markdown",
      "source": [
        "# Iowa (IA)\n",
        "Iowa is taking a different approach to decarbonization by focusing on renewable energy generation (mostly wind). The state's only nuclear plant generated 4,000 to 6,000 thousand MWh until its closure in 2020, after which nuclear output drops to zero. In contrast, wind generation soared from under 2,000 thousand Mwh in the 2000s to over 45,000 by 2023. This can be attributed to Iowa's early **Renewable Portfolio Standard (1999)**, its **Wind Energy Production Tax Credit**, and the state's abundant prairie wind resources.\n",
        "\n",
        "Iowa's curve demonstrates that even without nuclear, consistent policy incentives and natural resource advantages can drive rapid renewable adoption."
      ],
      "metadata": {
        "id": "5DFT4Il2rvGq"
      }
    }
  ]
}